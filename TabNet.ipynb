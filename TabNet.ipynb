{
 "cells": [
  {
   "cell_type": "code",
   "execution_count": 1,
   "metadata": {},
   "outputs": [
    {
     "name": "stdout",
     "output_type": "stream",
     "text": [
      "Requirement already satisfied: pytorch-tabnet in c:\\users\\gurpreet singh\\anaconda3\\envs\\azackme\\lib\\site-packages (4.1.0)\n",
      "Requirement already satisfied: numpy>=1.17 in c:\\users\\gurpreet singh\\anaconda3\\envs\\azackme\\lib\\site-packages (from pytorch-tabnet) (1.25.2)\n",
      "Requirement already satisfied: scikit_learn>0.21 in c:\\users\\gurpreet singh\\anaconda3\\envs\\azackme\\lib\\site-packages (from pytorch-tabnet) (1.2.2)\n",
      "Requirement already satisfied: scipy>1.4 in c:\\users\\gurpreet singh\\anaconda3\\envs\\azackme\\lib\\site-packages (from pytorch-tabnet) (1.10.1)\n",
      "Requirement already satisfied: torch>=1.3 in c:\\users\\gurpreet singh\\anaconda3\\envs\\azackme\\lib\\site-packages (from pytorch-tabnet) (2.1.1)\n",
      "Requirement already satisfied: tqdm>=4.36 in c:\\users\\gurpreet singh\\anaconda3\\envs\\azackme\\lib\\site-packages (from pytorch-tabnet) (4.66.1)\n",
      "Requirement already satisfied: joblib>=1.1.1 in c:\\users\\gurpreet singh\\anaconda3\\envs\\azackme\\lib\\site-packages (from scikit_learn>0.21->pytorch-tabnet) (1.3.2)\n",
      "Requirement already satisfied: threadpoolctl>=2.0.0 in c:\\users\\gurpreet singh\\anaconda3\\envs\\azackme\\lib\\site-packages (from scikit_learn>0.21->pytorch-tabnet) (3.2.0)\n",
      "Requirement already satisfied: filelock in c:\\users\\gurpreet singh\\anaconda3\\envs\\azackme\\lib\\site-packages (from torch>=1.3->pytorch-tabnet) (3.13.1)\n",
      "Requirement already satisfied: typing-extensions in c:\\users\\gurpreet singh\\anaconda3\\envs\\azackme\\lib\\site-packages (from torch>=1.3->pytorch-tabnet) (4.9.0)\n",
      "Requirement already satisfied: sympy in c:\\users\\gurpreet singh\\anaconda3\\envs\\azackme\\lib\\site-packages (from torch>=1.3->pytorch-tabnet) (1.12)\n",
      "Requirement already satisfied: networkx in c:\\users\\gurpreet singh\\anaconda3\\envs\\azackme\\lib\\site-packages (from torch>=1.3->pytorch-tabnet) (3.2.1)\n",
      "Requirement already satisfied: jinja2 in c:\\users\\gurpreet singh\\anaconda3\\envs\\azackme\\lib\\site-packages (from torch>=1.3->pytorch-tabnet) (3.1.2)\n",
      "Requirement already satisfied: fsspec in c:\\users\\gurpreet singh\\anaconda3\\envs\\azackme\\lib\\site-packages (from torch>=1.3->pytorch-tabnet) (2023.10.0)\n",
      "Requirement already satisfied: colorama in c:\\users\\gurpreet singh\\anaconda3\\envs\\azackme\\lib\\site-packages (from tqdm>=4.36->pytorch-tabnet) (0.4.6)\n",
      "Requirement already satisfied: MarkupSafe>=2.0 in c:\\users\\gurpreet singh\\anaconda3\\envs\\azackme\\lib\\site-packages (from jinja2->torch>=1.3->pytorch-tabnet) (2.1.1)\n",
      "Requirement already satisfied: mpmath>=0.19 in c:\\users\\gurpreet singh\\anaconda3\\envs\\azackme\\lib\\site-packages (from sympy->torch>=1.3->pytorch-tabnet) (1.3.0)\n"
     ]
    }
   ],
   "source": [
    "!pip install pytorch-tabnet"
   ]
  }
 ],
 "metadata": {
  "kernelspec": {
   "display_name": "azackme",
   "language": "python",
   "name": "python3"
  },
  "language_info": {
   "codemirror_mode": {
    "name": "ipython",
    "version": 3
   },
   "file_extension": ".py",
   "mimetype": "text/x-python",
   "name": "python",
   "nbconvert_exporter": "python",
   "pygments_lexer": "ipython3",
   "version": "3.11.5"
  }
 },
 "nbformat": 4,
 "nbformat_minor": 2
}
